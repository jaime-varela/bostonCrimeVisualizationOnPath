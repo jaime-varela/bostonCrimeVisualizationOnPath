{
 "cells": [
  {
   "cell_type": "markdown",
   "metadata": {},
   "source": [
    "Modified and translated code from [this source](https://www.kaggle.com/code/s4dead/crimes-in-boston-visualization/notebook).  Added the ability to get summary statistics for a path."
   ]
  },
  {
   "cell_type": "markdown",
   "metadata": {},
   "source": [
    "## Imports"
   ]
  },
  {
   "cell_type": "code",
   "execution_count": 5,
   "metadata": {
    "collapsed": true
   },
   "outputs": [],
   "source": [
    "import datetime\n",
    "\n",
    "import numpy as np\n",
    "import pandas as pd\n",
    "\n",
    "import matplotlib.pyplot as plt\n",
    "import seaborn as sns\n",
    "import folium\n",
    "from folium import plugins\n",
    "import plotly.express as px\n",
    "\n",
    "from sklearn.neighbors import KNeighborsClassifier\n",
    "\n",
    "\n",
    "import alphashape\n",
    "\n",
    "%matplotlib inline\n",
    "sns.set()\n",
    "\n",
    "from config import apiKeys\n",
    "#from openrouteservice import client, places\n",
    "\n",
    "import googlemaps\n",
    "import polyline\n",
    "from shapely.geometry import Polygon, LineString, Point\n",
    "import geopandas\n",
    "\n"
   ]
  },
  {
   "cell_type": "markdown",
   "metadata": {},
   "source": [
    "## Config variables"
   ]
  },
  {
   "cell_type": "code",
   "execution_count": 2,
   "metadata": {},
   "outputs": [],
   "source": [
    "MAXYEAR = 2022\n",
    "MINYEAR = 2000"
   ]
  },
  {
   "cell_type": "markdown",
   "metadata": {},
   "source": [
    "## Data Import"
   ]
  },
  {
   "cell_type": "code",
   "execution_count": 11,
   "metadata": {},
   "outputs": [],
   "source": [
    "dateparse = lambda x: pd.to_datetime(x, format='%m/%d/%Y %H:%M:%S',errors='coerce')\n",
    "\n",
    "data = pd.read_csv('data/chicago/Crimes_-_2001_to_Present.csv', encoding='latin-1',\n",
    "                   parse_dates=['Date'], date_parser=dateparse,dtype={'Description\t': 'str'})"
   ]
  },
  {
   "cell_type": "markdown",
   "metadata": {},
   "source": [
    "## Summary Statistics"
   ]
  },
  {
   "cell_type": "code",
   "execution_count": 14,
   "metadata": {},
   "outputs": [
    {
     "data": {
      "text/plain": [
       "ID                            0\n",
       "Case Number                   4\n",
       "Date                    7591376\n",
       "Block                         0\n",
       "IUCR                          0\n",
       "Primary Type                  0\n",
       "Description                   0\n",
       "Location Description       9453\n",
       "Arrest                        0\n",
       "Domestic                      0\n",
       "Beat                          0\n",
       "District                     47\n",
       "Ward                     614844\n",
       "Community Area           613478\n",
       "FBI Code                      0\n",
       "X Coordinate              80384\n",
       "Y Coordinate              80384\n",
       "Year                          0\n",
       "Updated On                    0\n",
       "Latitude                  80384\n",
       "Longitude                 80384\n",
       "Location                  80384\n",
       "dtype: int64"
      ]
     },
     "execution_count": 14,
     "metadata": {},
     "output_type": "execute_result"
    }
   ],
   "source": [
    "data.isna().sum()"
   ]
  },
  {
   "cell_type": "markdown",
   "metadata": {},
   "source": [
    "### The unique values ​​themselves\n"
   ]
  },
  {
   "cell_type": "code",
   "execution_count": 15,
   "metadata": {},
   "outputs": [
    {
     "name": "stdout",
     "output_type": "stream",
     "text": [
      "District: [ 9. 15.  6. 14. 10. 12.  8. 16.  5.  2.  4. 22.  3.  1.  7. 11. 17. 20.\n",
      " 25. 18. 19. 24. 31. nan 21.]\n",
      "Year: [2015 2018 2016 2014 2001 2020 2019 2012 2017 2013 2011 2007 2003 2010\n",
      " 2008 2009 2002 2005 2006 2004 2021 2022]\n",
      "Community Area: [61. 25. 44. 21. 71. 24. 31. 27. 63. 65. 11. 49. 39. 51. 15. 52. 12. 43.\n",
      " 46. 32. 68. 14. 29.  2. 69. 23. 35.  8.  3.  6. 56. 28. 53. 50. 33. 13.\n",
      " 74. 19. 45. 72. 22. 64.  7.  5. 26. 66. 59. 77.  1. 10. 67. 38. 41. 60.\n",
      " 30. 54. 58. 48. 73. 70. 40. 34. 16. 18.  4. 17. 42. 37. 75. 62. 20. 57.\n",
      " 76. 47. nan  9. 36. 55.  0.]\n",
      "Ward: [12. 29.  8. 35. 28. 21. 32. 25. 27. 15. 13. 45. 34.  4.  1. 10. 38.  5.\n",
      "  7.  2. 20. 39. 24. 40.  6. 37. 16.  3. 42. 46. 23.  9. 19. 50. 44. 47.\n",
      " 11. 48. 49. 26. 33. 22. 30. 18. 43. 31. 36. 17. 14. 41. nan]\n"
     ]
    }
   ],
   "source": [
    "for column in ['District', 'Year', 'Community Area','Ward']:\n",
    "    print(f'{column}: {data[column].unique()}')"
   ]
  },
  {
   "cell_type": "markdown",
   "metadata": {},
   "source": [
    "## Data cleansing/transformation"
   ]
  },
  {
   "cell_type": "markdown",
   "metadata": {},
   "source": [
    "\n",
    "Remove unnecessary columns"
   ]
  },
  {
   "cell_type": "code",
   "execution_count": 16,
   "metadata": {},
   "outputs": [],
   "source": [
    "\n",
    "data.drop(['Location', 'Updated On', 'Y Coordinate','X Coordinate','FBI Code'], axis=1, inplace=True)"
   ]
  },
  {
   "cell_type": "markdown",
   "metadata": {},
   "source": [
    "We bring all unknown values ​​to a single form"
   ]
  },
  {
   "cell_type": "code",
   "execution_count": 17,
   "metadata": {},
   "outputs": [],
   "source": [
    "data.Latitude.replace(-1, None, inplace=True)\n",
    "data.Longitude.replace(-1, None, inplace=True)"
   ]
  },
  {
   "cell_type": "markdown",
   "metadata": {},
   "source": [
    "## Map Visualization"
   ]
  },
  {
   "cell_type": "markdown",
   "metadata": {},
   "source": [
    "### Finding county boundaries"
   ]
  },
  {
   "cell_type": "markdown",
   "metadata": {},
   "source": [
    "Delete knowingly incomplete/inaccurate data"
   ]
  },
  {
   "cell_type": "code",
   "execution_count": 18,
   "metadata": {},
   "outputs": [],
   "source": [
    "data_counties = data[['District', 'Latitude', 'Longitude']].dropna()\n",
    "data_counties['Latitude'] = pd.to_numeric(data_counties['Latitude'])\n",
    "data_counties['Longitude'] = pd.to_numeric(data_counties['Longitude'])"
   ]
  },
  {
   "cell_type": "markdown",
   "metadata": {},
   "source": [
    "Getting rid of outliers using the nearest neighbor method"
   ]
  },
  {
   "cell_type": "code",
   "execution_count": 20,
   "metadata": {},
   "outputs": [
    {
     "data": {
      "text/plain": [
       "KNeighborsClassifier(n_jobs=-1, n_neighbors=100)"
      ]
     },
     "execution_count": 20,
     "metadata": {},
     "output_type": "execute_result"
    }
   ],
   "source": [
    "neigh = KNeighborsClassifier(n_neighbors=100, n_jobs=-1)\n",
    "neigh.fit(data_counties[['Latitude', 'Longitude']], data_counties['District'])"
   ]
  },
  {
   "cell_type": "markdown",
   "metadata": {},
   "source": [
    "Assigning new county numbers"
   ]
  },
  {
   "cell_type": "code",
   "execution_count": 22,
   "metadata": {},
   "outputs": [],
   "source": [
    "data_counties['District'] = neigh.predict(data_counties[['Latitude', 'Longitude']])"
   ]
  },
  {
   "cell_type": "markdown",
   "metadata": {},
   "source": [
    "Get bounds for new labels"
   ]
  },
  {
   "cell_type": "code",
   "execution_count": 23,
   "metadata": {},
   "outputs": [
    {
     "name": "stderr",
     "output_type": "stream",
     "text": [
      "/home/jvarela/anaconda3/envs/mapVisualization/lib/python3.7/site-packages/alphashape/alphashape.py:50: ShapelyDeprecationWarning: __len__ for multi-part geometries is deprecated and will be removed in Shapely 2.0. Check the length of the `geoms` property instead to get the  number of parts of a multi-part geometry.\n",
      "  if len(points) < 4 or (alpha is not None and alpha <= 0):\n",
      "/home/jvarela/anaconda3/envs/mapVisualization/lib/python3.7/site-packages/alphashape/alphashape.py:68: ShapelyDeprecationWarning: Iteration over multi-part geometries is deprecated and will be removed in Shapely 2.0. Use the `geoms` property to access the constituent parts of a multi-part geometry.\n",
      "  coords = np.array([point.coords[0] for point in points])\n",
      "/home/jvarela/anaconda3/envs/mapVisualization/lib/python3.7/site-packages/alphashape/alphashape.py:105: ShapelyDeprecationWarning: The 'cascaded_union()' function is deprecated. Use 'unary_union()' instead.\n",
      "  result = cascaded_union(triangles)\n"
     ]
    }
   ],
   "source": [
    "district_groups = data_counties.groupby(['District'])\n",
    "geojson = {'type': 'FeatureCollection'}\n",
    "geojson['features'] = []\n",
    "# Multipolygons are being generated will keep maximal shape as district boundary\n",
    "counter = 0\n",
    "for district, data_district in dict(list(district_groups)).items():\n",
    "    pointOutline = alphashape.alphashape(data_district[['Longitude', 'Latitude']].values,\n",
    "                                           alpha=np.sqrt(data_district.shape[0]) * 1.5)\n",
    "    hullGeom = {}\n",
    "    if pointOutline.geom_type == 'MultiPolygon':\n",
    "        maxSize = 0\n",
    "        for geom in pointOutline.geoms:\n",
    "            x,y = geom.exterior.xy\n",
    "            geomSize = len(x)\n",
    "            if geomSize > maxSize:\n",
    "                maxSize = geomSize\n",
    "                hullGeom = geom.exterior.coords\n",
    "    else:\n",
    "        hullGeom = pointOutline.exterior.coords\n",
    "\n",
    "    hull_curr = list(hullGeom)\n",
    "    geojson['features'].append({'type': 'Feature',\n",
    "                                'geometry': {\n",
    "                                    'type': 'Polygon',\n",
    "                                    'coordinates': [hull_curr]\n",
    "                                },\n",
    "                                'properties': {'district': district}})\n",
    "    counter = counter + 1"
   ]
  },
  {
   "cell_type": "markdown",
   "metadata": {},
   "source": [
    "Let's look at the resulting boundaries"
   ]
  },
  {
   "cell_type": "code",
   "execution_count": null,
   "metadata": {},
   "outputs": [],
   "source": [
    "fig = px.choropleth_mapbox(data_counties, geojson=geojson, color='District',\n",
    "                           locations='District', featureidkey='properties.district',\n",
    "                           center={'lat': 41.8781, 'lon': -87.623177},\n",
    "                           mapbox_style='carto-positron', zoom=10.5,\n",
    "                           opacity=0.5)\n",
    "fig.update_layout(margin={'r': 0, 't': 0, 'l': 0, 'b': 0})\n",
    "fig.show()"
   ]
  },
  {
   "cell_type": "markdown",
   "metadata": {},
   "source": [
    "#### Distribution of crimes by groups for different partitions"
   ]
  },
  {
   "cell_type": "code",
   "execution_count": 28,
   "metadata": {},
   "outputs": [],
   "source": [
    "# Drawing histograms\n",
    "def bar_chart(x_vals, y_vals, title=None, x_label=None, y_label=None, if_plot_vals=False):\n",
    "    n = len(x_vals)\n",
    "    x_pos = np.arange(n)\n",
    "\n",
    "    plt.figure(figsize=(12, 8))\n",
    "    plt.bar(x_pos, y_vals, align='center', alpha=0.6)\n",
    "    plt.xticks(x_pos, x_vals)\n",
    "    if title:\n",
    "        plt.title(title)\n",
    "    if x_label:\n",
    "        plt.xlabel(x_label)\n",
    "    if y_label:\n",
    "        plt.ylabel(y_label)\n",
    "\n",
    "    if if_plot_vals:\n",
    "        for pos, val in zip(x_pos, y_vals):\n",
    "            plt.text(pos, val, val, ha='center')\n",
    "\n",
    "    plt.show()"
   ]
  },
  {
   "cell_type": "markdown",
   "metadata": {},
   "source": [
    "Distribution of the number of all crimes by years (ignore 2022 as the year is not done)"
   ]
  },
  {
   "cell_type": "code",
   "execution_count": 29,
   "metadata": {},
   "outputs": [
    {
     "data": {
      "image/png": "[encoded data removed]",
      "text/plain": [
       "<Figure size 864x576 with 1 Axes>"
      ]
     },
     "metadata": {},
     "output_type": "display_data"
    }
   ],
   "source": [
    "data_year = data.groupby(['Year']).size().reset_index(name='Counts')\n",
    "\n",
    "bar_chart(data_year.Year, data_year.Counts, 'All crimes each year', 'Year', 'Counts')"
   ]
  },
  {
   "cell_type": "markdown",
   "metadata": {},
   "source": [
    "## We now look at summary stats for specific years"
   ]
  },
  {
   "cell_type": "code",
   "execution_count": 30,
   "metadata": {},
   "outputs": [],
   "source": [
    "def getDataForSpecificYear(dataFrame,year):\n",
    "    assert year >= MINYEAR and year <= MAXYEAR,\"invalid year value\"\n",
    "    return dataFrame[dataFrame['Year'] == year]"
   ]
  },
  {
   "cell_type": "markdown",
   "metadata": {},
   "source": [
    "By county\n"
   ]
  },
  {
   "cell_type": "code",
   "execution_count": 32,
   "metadata": {},
   "outputs": [
    {
     "data": {
      "text/plain": [
       "<seaborn.axisgrid.FacetGrid at 0x7f5779b2c050>"
      ]
     },
     "execution_count": 32,
     "metadata": {},
     "output_type": "execute_result"
    },
    {
     "data": {
      "image/png": "[encoded data removed]",
      "text/plain": [
       "<Figure size 864x576 with 1 Axes>"
      ]
     },
     "metadata": {},
     "output_type": "display_data"
    }
   ],
   "source": [
    "sns.catplot(y='District',\n",
    "            kind='count',\n",
    "            height=8,\n",
    "            aspect=1.5,\n",
    "            order=data.District.value_counts().index,\n",
    "            data=data)"
   ]
  },
  {
   "cell_type": "markdown",
   "metadata": {},
   "source": [
    "## Map Visualizations"
   ]
  },
  {
   "cell_type": "markdown",
   "metadata": {},
   "source": [
    "View crime count by district"
   ]
  },
  {
   "cell_type": "code",
   "execution_count": null,
   "metadata": {},
   "outputs": [],
   "source": [
    "data_county = data.groupby(['District']).size().reset_index(name='Counts')\n",
    "\n",
    "fig = px.choropleth_mapbox(data_county, geojson=geojson, color='Counts',\n",
    "                           locations='District', featureidkey='properties.district',\n",
    "                           color_continuous_scale=\"Viridis\", range_color=(0, data_county['Counts'].max()),\n",
    "                           center={'lat': 41.8781, 'lon': -87.623177},\n",
    "                           mapbox_style=\"carto-positron\", zoom=10.5,\n",
    "                           opacity=0.5, labels={'Area': 'Crimes number'})\n",
    "fig.update_layout(margin={'r': 0, 't': 0, 'l': 0, 'b': 0})\n",
    "fig.show()"
   ]
  },
  {
   "cell_type": "markdown",
   "metadata": {},
   "source": [
    "## Violent Crimes"
   ]
  },
  {
   "cell_type": "markdown",
   "metadata": {},
   "source": [
    "Now we focus on violent crimes such as homicide, assault, battery.  We take as our key words from the wikipedia description:\n",
    "\n",
    "[Depending on the jurisdiction, violent crimes may include: homicide, murder, assault, manslaughter, sexual assault, rape, robbery, negligence, endangerment, kidnapping (abduction), extortion, and harassment.](https://en.wikipedia.org/wiki/Violent_crime#Violent_crime_by_country)\n",
    "\n",
    "However we will ignore 'negligence', and 'endangerment'."
   ]
  },
  {
   "cell_type": "code",
   "execution_count": 36,
   "metadata": {},
   "outputs": [],
   "source": [
    "\n",
    "def joinDataFrames(dataFrameArray):\n",
    "    areEqual = all([len(dataFrameArray[0].columns.intersection(df.columns)) \n",
    "      == dataFrameArray[0].shape[1] for df in dataFrameArray])\n",
    "    assert areEqual, \"can not join data frames with different columns\"\n",
    "    result = pd.concat(dataFrameArray)\n",
    "    result = result.drop_duplicates()\n",
    "    return result\n",
    "\n",
    "def selectDataFramesByKeyWord(dataFrame ,keyWord, columsToQuery=['Description','Location Description','Primary Type'],lowerStrings=True):\n",
    "    # df = df[df['Credit-Rating'].str.contains('Fair')]\n",
    "    dataFrameArray = []\n",
    "    if lowerStrings:\n",
    "        for columnName in columsToQuery:\n",
    "            dataWithValues = dataFrame[dataFrame[columnName].notna()]\n",
    "            dataWithValues[columnName] = dataWithValues[columnName].apply(str.lower)\n",
    "            queryWord = keyWord.lower()\n",
    "            filteredDF = dataWithValues[dataWithValues[columnName].str.contains(queryWord)]\n",
    "            dataFrameArray.append(filteredDF)\n",
    "    else:\n",
    "        for columnName in columsToQuery:\n",
    "            dataWithValues = dataFrame[dataFrame[columnName].notna()]\n",
    "            dataWithValues[columnName] = dataWithValues[columnName].apply(str.lower)\n",
    "            queryWord = keyWord\n",
    "            filteredDF = dataWithValues[dataWithValues[columnName].str.contains(queryWord)]\n",
    "            dataFrameArray.append(filteredDF)\n",
    "    return joinDataFrames(dataFrameArray)"
   ]
  },
  {
   "cell_type": "code",
   "execution_count": 37,
   "metadata": {},
   "outputs": [
    {
     "name": "stderr",
     "output_type": "stream",
     "text": [
      "/home/jvarela/anaconda3/envs/mapVisualization/lib/python3.7/site-packages/ipykernel_launcher.py:15: SettingWithCopyWarning:\n",
      "\n",
      "\n",
      "A value is trying to be set on a copy of a slice from a DataFrame.\n",
      "Try using .loc[row_indexer,col_indexer] = value instead\n",
      "\n",
      "See the caveats in the documentation: https://pandas.pydata.org/pandas-docs/stable/user_guide/indexing.html#returning-a-view-versus-a-copy\n",
      "\n"
     ]
    },
    {
     "data": {
      "text/plain": [
       "(645628, 70)"
      ]
     },
     "execution_count": 37,
     "metadata": {},
     "output_type": "execute_result"
    }
   ],
   "source": [
    "violentCrimeKeyWords = ['Aggravated assault','Homicide', 'HOME INVASION', \n",
    "'Manslaughter', 'HUMAN TRAFFICKING', 'BODILY HARM', 'MURDER ', 'BATTERY', \n",
    "'Kidnapping', 'ROBBERY ATTEMPT - OTHER WEAPON', 'ROBBERY - STREET', 'ROBBERY - HOME INVASION', \n",
    "'ROBBERY - CAR JACKING', 'ROBBERY - KNIFE']\n",
    "\n",
    "\n",
    "dataWithLocations = data[data['Latitude'].notna() & data['Longitude'].notna()]\n",
    "violentCrimesDFs = [selectDataFramesByKeyWord(dataWithLocations,keyWordVal) for keyWordVal in violentCrimeKeyWords]\n",
    "violentCrimeDF = joinDataFrames(violentCrimesDFs)\n",
    "len(violentCrimeDF.index)"
   ]
  },
  {
   "cell_type": "code",
   "execution_count": 45,
   "metadata": {},
   "outputs": [
    {
     "name": "stderr",
     "output_type": "stream",
     "text": [
      "/home/jvarela/anaconda3/envs/mapVisualization/lib/python3.7/site-packages/ipykernel_launcher.py:15: SettingWithCopyWarning:\n",
      "\n",
      "\n",
      "A value is trying to be set on a copy of a slice from a DataFrame.\n",
      "Try using .loc[row_indexer,col_indexer] = value instead\n",
      "\n",
      "See the caveats in the documentation: https://pandas.pydata.org/pandas-docs/stable/user_guide/indexing.html#returning-a-view-versus-a-copy\n",
      "\n"
     ]
    },
    {
     "data": {
      "text/plain": [
       "12029"
      ]
     },
     "execution_count": 45,
     "metadata": {},
     "output_type": "execute_result"
    }
   ],
   "source": [
    "homicideKeyWords = ['Homicide','Manslaughter','degree murder']\n",
    "\n",
    "\n",
    "homicideCrimesDFs =[selectDataFramesByKeyWord(dataWithLocations,keyWordVal) for keyWordVal in homicideKeyWords]\n",
    "homicideCrimeDF = joinDataFrames(homicideCrimesDFs)\n",
    "len(homicideCrimeDF.index)"
   ]
  },
  {
   "cell_type": "code",
   "execution_count": null,
   "metadata": {},
   "outputs": [],
   "source": [
    "violent_data_county = violentCrimeDF.groupby(['District']).size().reset_index(name='Counts')\n",
    "\n",
    "fig = px.choropleth_mapbox(violent_data_county, geojson=geojson, color='Counts',\n",
    "                           locations='District', featureidkey='properties.district',\n",
    "                           color_continuous_scale=\"Viridis\", range_color=(0, violent_data_county['Counts'].max()),\n",
    "                           center={'lat': 41.8781, 'lon': -87.623177},\n",
    "                           mapbox_style=\"carto-positron\", zoom=10.5,\n",
    "                           opacity=0.5, labels={'Area': 'Crimes number'})\n",
    "fig.update_layout(margin={'r': 0, 't': 0, 'l': 0, 'b': 0})\n",
    "fig.show()"
   ]
  },
  {
   "cell_type": "markdown",
   "metadata": {},
   "source": [
    "homicide counts by district"
   ]
  },
  {
   "cell_type": "code",
   "execution_count": null,
   "metadata": {},
   "outputs": [],
   "source": [
    "homicide_data_county = homicideCrimeDF.groupby(['District']).size().reset_index(name='Counts')\n",
    "\n",
    "fig = px.choropleth_mapbox(homicide_data_county, geojson=geojson, color='Counts',\n",
    "                           locations='District', featureidkey='properties.district',\n",
    "                           color_continuous_scale=\"Viridis\", range_color=(0, homicide_data_county['Counts'].max()),\n",
    "                           center={'lat': 41.8781, 'lon': -87.623177},\n",
    "                           mapbox_style=\"carto-positron\", zoom=10.5,\n",
    "                           opacity=0.5, labels={'Area': 'Crimes number'})\n",
    "fig.update_layout(margin={'r': 0, 't': 0, 'l': 0, 'b': 0})\n",
    "fig.show()\n"
   ]
  }
 ],
 "metadata": {
  "kernelspec": {
   "display_name": "Python 3.7.12 ('mapVisualization')",
   "language": "python",
   "name": "python3"
  },
  "language_info": {
   "codemirror_mode": {
    "name": "ipython",
    "version": 3
   },
   "file_extension": ".py",
   "mimetype": "text/x-python",
   "name": "python",
   "nbconvert_exporter": "python",
   "pygments_lexer": "ipython3",
   "version": "3.7.12"
  },
  "vscode": {
   "interpreter": {
    "hash": "a03f4b74906fcadd8f5b57d97552409a8c5770c54c81f9dde2c9a1786c32d061"
   }
  }
 },
 "nbformat": 4,
 "nbformat_minor": 4
}
